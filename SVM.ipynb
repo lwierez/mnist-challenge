{
 "cells": [
  {
   "cell_type": "markdown",
   "id": "870f19c3",
   "metadata": {},
   "source": [
    "# SVM\n",
    "\n",
    "Trying to solve the problem with SVM from scikit learn.\n",
    "\n",
    "## Loading dataset\n",
    "\n",
    "Load the dataset from MNIST folder, and normalize the data from [0, 255] to [0, 1]."
   ]
  },
  {
   "cell_type": "code",
   "execution_count": 1,
   "id": "ea02291f",
   "metadata": {},
   "outputs": [],
   "source": [
    "from idx import from_bytes\n",
    "\n",
    "\n",
    "X_TRAIN_FILE_PATH = \"./MNIST/x_train.idx3-ubyte\"\n",
    "Y_TRAIN_FILE_PATH = \"./MNIST/y_train.idx1-ubyte\"\n",
    "X_TEST_FILE_PATH = \"./MNIST/x_test.idx3-ubyte\"\n",
    "Y_TEST_FILE_PATH = \"./MNIST/y_test.idx1-ubyte\"\n",
    "\n",
    "with open(X_TRAIN_FILE_PATH, \"rb\") as f:\n",
    "    x = from_bytes(f.read())\n",
    "\n",
    "with open(Y_TRAIN_FILE_PATH, \"rb\") as f:\n",
    "    y = from_bytes(f.read())\n",
    "    \n",
    "with open(X_TEST_FILE_PATH, \"rb\") as f:\n",
    "    x_test = from_bytes(f.read())\n",
    "    \n",
    "with open(Y_TEST_FILE_PATH, \"rb\") as f:\n",
    "    y_test = from_bytes(f.read())\n",
    "    \n",
    "x = x.reshape(60000, 28 * 28) / 255.\n",
    "x_test = x_test.reshape(10000, 28 * 28) / 255."
   ]
  },
  {
   "cell_type": "markdown",
   "id": "faba94d6",
   "metadata": {},
   "source": [
    "## Create and fit model\n",
    "\n",
    "Create and fit model. Kernel is RBF, training is done with cross-validation, using (C, Γ) = (10, 10<sup>-3</sup>)."
   ]
  },
  {
   "cell_type": "code",
   "execution_count": 2,
   "id": "449b50f0",
   "metadata": {},
   "outputs": [
    {
     "data": {
      "text/html": [
       "<style>#sk-container-id-1 {color: black;background-color: white;}#sk-container-id-1 pre{padding: 0;}#sk-container-id-1 div.sk-toggleable {background-color: white;}#sk-container-id-1 label.sk-toggleable__label {cursor: pointer;display: block;width: 100%;margin-bottom: 0;padding: 0.3em;box-sizing: border-box;text-align: center;}#sk-container-id-1 label.sk-toggleable__label-arrow:before {content: \"▸\";float: left;margin-right: 0.25em;color: #696969;}#sk-container-id-1 label.sk-toggleable__label-arrow:hover:before {color: black;}#sk-container-id-1 div.sk-estimator:hover label.sk-toggleable__label-arrow:before {color: black;}#sk-container-id-1 div.sk-toggleable__content {max-height: 0;max-width: 0;overflow: hidden;text-align: left;background-color: #f0f8ff;}#sk-container-id-1 div.sk-toggleable__content pre {margin: 0.2em;color: black;border-radius: 0.25em;background-color: #f0f8ff;}#sk-container-id-1 input.sk-toggleable__control:checked~div.sk-toggleable__content {max-height: 200px;max-width: 100%;overflow: auto;}#sk-container-id-1 input.sk-toggleable__control:checked~label.sk-toggleable__label-arrow:before {content: \"▾\";}#sk-container-id-1 div.sk-estimator input.sk-toggleable__control:checked~label.sk-toggleable__label {background-color: #d4ebff;}#sk-container-id-1 div.sk-label input.sk-toggleable__control:checked~label.sk-toggleable__label {background-color: #d4ebff;}#sk-container-id-1 input.sk-hidden--visually {border: 0;clip: rect(1px 1px 1px 1px);clip: rect(1px, 1px, 1px, 1px);height: 1px;margin: -1px;overflow: hidden;padding: 0;position: absolute;width: 1px;}#sk-container-id-1 div.sk-estimator {font-family: monospace;background-color: #f0f8ff;border: 1px dotted black;border-radius: 0.25em;box-sizing: border-box;margin-bottom: 0.5em;}#sk-container-id-1 div.sk-estimator:hover {background-color: #d4ebff;}#sk-container-id-1 div.sk-parallel-item::after {content: \"\";width: 100%;border-bottom: 1px solid gray;flex-grow: 1;}#sk-container-id-1 div.sk-label:hover label.sk-toggleable__label {background-color: #d4ebff;}#sk-container-id-1 div.sk-serial::before {content: \"\";position: absolute;border-left: 1px solid gray;box-sizing: border-box;top: 0;bottom: 0;left: 50%;z-index: 0;}#sk-container-id-1 div.sk-serial {display: flex;flex-direction: column;align-items: center;background-color: white;padding-right: 0.2em;padding-left: 0.2em;position: relative;}#sk-container-id-1 div.sk-item {position: relative;z-index: 1;}#sk-container-id-1 div.sk-parallel {display: flex;align-items: stretch;justify-content: center;background-color: white;position: relative;}#sk-container-id-1 div.sk-item::before, #sk-container-id-1 div.sk-parallel-item::before {content: \"\";position: absolute;border-left: 1px solid gray;box-sizing: border-box;top: 0;bottom: 0;left: 50%;z-index: -1;}#sk-container-id-1 div.sk-parallel-item {display: flex;flex-direction: column;z-index: 1;position: relative;background-color: white;}#sk-container-id-1 div.sk-parallel-item:first-child::after {align-self: flex-end;width: 50%;}#sk-container-id-1 div.sk-parallel-item:last-child::after {align-self: flex-start;width: 50%;}#sk-container-id-1 div.sk-parallel-item:only-child::after {width: 0;}#sk-container-id-1 div.sk-dashed-wrapped {border: 1px dashed gray;margin: 0 0.4em 0.5em 0.4em;box-sizing: border-box;padding-bottom: 0.4em;background-color: white;}#sk-container-id-1 div.sk-label label {font-family: monospace;font-weight: bold;display: inline-block;line-height: 1.2em;}#sk-container-id-1 div.sk-label-container {text-align: center;}#sk-container-id-1 div.sk-container {/* jupyter's `normalize.less` sets `[hidden] { display: none; }` but bootstrap.min.css set `[hidden] { display: none !important; }` so we also need the `!important` here to be able to override the default hidden behavior on the sphinx rendered scikit-learn.org. See: https://github.com/scikit-learn/scikit-learn/issues/21755 */display: inline-block !important;position: relative;}#sk-container-id-1 div.sk-text-repr-fallback {display: none;}</style><div id=\"sk-container-id-1\" class=\"sk-top-container\"><div class=\"sk-text-repr-fallback\"><pre>SVC(C=10, probability=True)</pre><b>In a Jupyter environment, please rerun this cell to show the HTML representation or trust the notebook. <br />On GitHub, the HTML representation is unable to render, please try loading this page with nbviewer.org.</b></div><div class=\"sk-container\" hidden><div class=\"sk-item\"><div class=\"sk-estimator sk-toggleable\"><input class=\"sk-toggleable__control sk-hidden--visually\" id=\"sk-estimator-id-1\" type=\"checkbox\" checked><label for=\"sk-estimator-id-1\" class=\"sk-toggleable__label sk-toggleable__label-arrow\">SVC</label><div class=\"sk-toggleable__content\"><pre>SVC(C=10, probability=True)</pre></div></div></div></div></div>"
      ],
      "text/plain": [
       "SVC(C=10, probability=True)"
      ]
     },
     "execution_count": 2,
     "metadata": {},
     "output_type": "execute_result"
    }
   ],
   "source": [
    "from sklearn import svm\n",
    "\n",
    "\n",
    "model = svm.SVC(\n",
    "    kernel = \"rbf\",\n",
    "    probability = True,\n",
    "    tol = 1e-3,\n",
    "    C = 10\n",
    ")\n",
    "\n",
    "model.fit(x, y)"
   ]
  },
  {
   "cell_type": "markdown",
   "id": "3da6c25a",
   "metadata": {},
   "source": [
    "## Performance\n",
    "\n",
    "Calculate accuracy and draw confusion matrix. Values in the confusion matrix are drawn following a logarithmic scale."
   ]
  },
  {
   "cell_type": "code",
   "execution_count": 6,
   "id": "512c02ef",
   "metadata": {},
   "outputs": [
    {
     "name": "stdout",
     "output_type": "stream",
     "text": [
      "Model accuracy is 0.9837\n"
     ]
    },
    {
     "data": {
      "image/png": "[encoded data removed]",
      "text/plain": [
       "<Figure size 640x480 with 1 Axes>"
      ]
     },
     "metadata": {},
     "output_type": "display_data"
    }
   ],
   "source": [
    "from math import log\n",
    "import matplotlib.pyplot as plt\n",
    "from sklearn.metrics import accuracy_score\n",
    "\n",
    "\n",
    "y_predicted = model.predict(x_test)\n",
    "\n",
    "\n",
    "accuracy = accuracy_score(y_predicted, y_test)\n",
    "print(f\"Model accuracy is {accuracy}\")\n",
    "\n",
    "\n",
    "confusion_matrix = [[0 for jj in range(10)] for ii in range(10)]\n",
    "\n",
    "for index, predicted in enumerate(y_predicted):\n",
    "    confusion_matrix[predicted][y_test[index]] += 1\n",
    "\n",
    "for predicted in confusion_matrix:\n",
    "    for real_index, real in enumerate(predicted):\n",
    "        predicted[real_index] = log(real) if real > 0 else 0\n",
    "        \n",
    "plt.imshow(confusion_matrix, cmap = \"YlOrRd\")\n",
    "plt.show()"
   ]
  },
  {
   "cell_type": "markdown",
   "id": "b563976d",
   "metadata": {},
   "source": [
    "## References\n",
    "\n",
    "1. Chih-Wei Hsu, Chih-Chung Chang, & Chih-Jen Lin (2003). A Practical Guide to Support Vector Classification (2016 rev.). https://www.csie.ntu.edu.tw/~cjlin/papers/guide/guide.pdf"
   ]
  }
 ],
 "metadata": {
  "kernelspec": {
   "display_name": "Python 3 (ipykernel)",
   "language": "python",
   "name": "python3"
  },
  "language_info": {
   "codemirror_mode": {
    "name": "ipython",
    "version": 3
   },
   "file_extension": ".py",
   "mimetype": "text/x-python",
   "name": "python",
   "nbconvert_exporter": "python",
   "pygments_lexer": "ipython3",
   "version": "3.11.4"
  }
 },
 "nbformat": 4,
 "nbformat_minor": 5
}
